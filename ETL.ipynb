{
 "cells": [
  {
   "cell_type": "code",
   "execution_count": 1,
   "metadata": {},
   "outputs": [],
   "source": [
    "from pyspark.sql import SparkSession\n",
    "spark = SparkSession \\\n",
    "    .builder \\\n",
    "    .appName(\"Python Spark basic example\") \\\n",
    "    .master(\"local[*]\") \\\n",
    "    .getOrCreate()"
   ]
  },
  {
   "cell_type": "code",
   "execution_count": 2,
   "metadata": {},
   "outputs": [],
   "source": [
    "df_student = spark.read.format(\"jdbc\").option(\"url\", \"jdbc:mysql://localhost:3306/univ\") \\\n",
    "    .option(\"driver\", \"com.mysql.jdbc.Driver\").option(\"dbtable\", \"student\") \\\n",
    "    .option(\"user\", \"root\").option(\"password\", \"ga2006321111\").load()"
   ]
  },
  {
   "cell_type": "code",
   "execution_count": 3,
   "metadata": {},
   "outputs": [
    {
     "data": {
      "text/plain": [
       "DataFrame[ID: string, name: string, dept_name: string, tot_cred: decimal(3,0)]"
      ]
     },
     "execution_count": 3,
     "metadata": {},
     "output_type": "execute_result"
    }
   ],
   "source": [
    "df_student"
   ]
  },
  {
   "cell_type": "code",
   "execution_count": 4,
   "metadata": {},
   "outputs": [
    {
     "name": "stdout",
     "output_type": "stream",
     "text": [
      "+-----+-------+---------+--------+\n",
      "|   ID|   name|dept_name|tot_cred|\n",
      "+-----+-------+---------+--------+\n",
      "|00128|  Zhang|     CMPE|     102|\n",
      "|12345|Shankar|     CMPE|      32|\n",
      "|19991| Brandt|  History|      80|\n",
      "|23121| Chavez|  Finance|     110|\n",
      "|44553|Peltier|  Physics|      56|\n",
      "+-----+-------+---------+--------+\n",
      "only showing top 5 rows\n",
      "\n"
     ]
    }
   ],
   "source": [
    "df_student.show(5)"
   ]
  },
  {
   "cell_type": "code",
   "execution_count": 5,
   "metadata": {},
   "outputs": [],
   "source": [
    "df_takes = spark.read.format(\"jdbc\").option(\"url\", \"jdbc:mysql://localhost:3306/univ\") \\\n",
    "    .option(\"driver\", \"com.mysql.jdbc.Driver\").option(\"dbtable\", \"takes\") \\\n",
    "    .option(\"user\", \"root\").option(\"password\", \"ga2006321111\").load()"
   ]
  },
  {
   "cell_type": "code",
   "execution_count": 6,
   "metadata": {},
   "outputs": [
    {
     "name": "stdout",
     "output_type": "stream",
     "text": [
      "+-----+---------+------+--------+----+-----+\n",
      "|   ID|course_id|sec_id|semester|year|grade|\n",
      "+-----+---------+------+--------+----+-----+\n",
      "|00128| CMPE-101|     1|    Fall|2009|    A|\n",
      "|00128| CMPE-347|     1|    Fall|2009|   A-|\n",
      "|12345| CMPE-101|     1|    Fall|2009|    C|\n",
      "|12345| CMPE-190|     2|  Spring|2009|    A|\n",
      "|12345| CMPE-315|     1|  Spring|2010|    A|\n",
      "|12345| CMPE-347|     1|    Fall|2009|    A|\n",
      "|19991|  HIS-351|     1|  Spring|2010|    B|\n",
      "|23121|  FIN-201|     1|  Spring|2010|   C+|\n",
      "|44553|  PHY-101|     1|    Fall|2009|   B-|\n",
      "|45678| CMPE-101|     1|    Fall|2009|    F|\n",
      "|45678| CMPE-101|     1|  Spring|2010|   B+|\n",
      "|45678| CMPE-319|     1|  Spring|2010|    B|\n",
      "|54321| CMPE-101|     1|    Fall|2009|   A-|\n",
      "|54321| CMPE-190|     2|  Spring|2009|   B+|\n",
      "|55739|   MU-199|     1|  Spring|2010|   A-|\n",
      "|76543| CMPE-101|     1|    Fall|2009|    A|\n",
      "|76543| CMPE-319|     2|  Spring|2010|    A|\n",
      "|76653|   EE-181|     1|  Spring|2009|    C|\n",
      "|98765| CMPE-101|     1|    Fall|2009|   C-|\n",
      "|98765| CMPE-315|     1|  Spring|2010|    B|\n",
      "+-----+---------+------+--------+----+-----+\n",
      "only showing top 20 rows\n",
      "\n"
     ]
    }
   ],
   "source": [
    "df_takes.show()"
   ]
  },
  {
   "cell_type": "code",
   "execution_count": 7,
   "metadata": {},
   "outputs": [
    {
     "name": "stdout",
     "output_type": "stream",
     "text": [
      "+-----+---------+------+--------+----+-----+\n",
      "|   ID|course_id|sec_id|semester|year|grade|\n",
      "+-----+---------+------+--------+----+-----+\n",
      "|00128| CMPE-101|     1|    Fall|2009|    A|\n",
      "|12345| CMPE-101|     1|    Fall|2009|    C|\n",
      "|45678| CMPE-101|     1|    Fall|2009|    F|\n",
      "|54321| CMPE-101|     1|    Fall|2009|   A-|\n",
      "|76543| CMPE-101|     1|    Fall|2009|    A|\n",
      "|98765| CMPE-101|     1|    Fall|2009|   C-|\n",
      "|45678| CMPE-101|     1|  Spring|2010|   B+|\n",
      "+-----+---------+------+--------+----+-----+\n",
      "\n"
     ]
    }
   ],
   "source": [
    "df_takes.where(df_takes['course_id'] == 'CMPE-101').show()"
   ]
  },
  {
   "cell_type": "code",
   "execution_count": 8,
   "metadata": {},
   "outputs": [
    {
     "data": {
      "text/plain": [
       "pyspark.sql.dataframe.DataFrame"
      ]
     },
     "execution_count": 8,
     "metadata": {},
     "output_type": "execute_result"
    }
   ],
   "source": [
    "type(df_student)"
   ]
  },
  {
   "cell_type": "code",
   "execution_count": 9,
   "metadata": {},
   "outputs": [
    {
     "name": "stdout",
     "output_type": "stream",
     "text": [
      "+-----+--------+----------+--------+---------+------+--------+----+-----+\n",
      "|   ID|    name| dept_name|tot_cred|course_id|sec_id|semester|year|grade|\n",
      "+-----+--------+----------+--------+---------+------+--------+----+-----+\n",
      "|98988|  Tanaka|   Biology|     120|  BIO-301|     1|  Summer|2010| null|\n",
      "|23121|  Chavez|   Finance|     110|  FIN-201|     1|  Spring|2010|   C+|\n",
      "|76543|   Brown|      CMPE|      58| CMPE-319|     2|  Spring|2010|    A|\n",
      "|55739| Sanchez|      CMPE|      38|   MU-199|     1|  Spring|2010|   A-|\n",
      "|12345| Shankar|      CMPE|      32| CMPE-315|     1|  Spring|2010|    A|\n",
      "|98765|Bourikas|Elec. Eng.|      98| CMPE-315|     1|  Spring|2010|    B|\n",
      "|19991|  Brandt|   History|      80|  HIS-351|     1|  Spring|2010|    B|\n",
      "|45678|    Levy|   Physics|      46| CMPE-101|     1|  Spring|2010|   B+|\n",
      "|45678|    Levy|   Physics|      46| CMPE-319|     1|  Spring|2010|    B|\n",
      "+-----+--------+----------+--------+---------+------+--------+----+-----+\n",
      "\n"
     ]
    }
   ],
   "source": [
    "df_student.join(df_takes, on=['ID']).where(df_takes['year'] > 2009).show()"
   ]
  },
  {
   "cell_type": "code",
   "execution_count": null,
   "metadata": {},
   "outputs": [],
   "source": []
  }
 ],
 "metadata": {
  "kernelspec": {
   "display_name": "Python 3",
   "language": "python",
   "name": "python3"
  },
  "language_info": {
   "codemirror_mode": {
    "name": "ipython",
    "version": 3
   },
   "file_extension": ".py",
   "mimetype": "text/x-python",
   "name": "python",
   "nbconvert_exporter": "python",
   "pygments_lexer": "ipython3",
   "version": "3.8.5"
  }
 },
 "nbformat": 4,
 "nbformat_minor": 4
}

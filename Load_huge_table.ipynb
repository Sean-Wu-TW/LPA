{
 "cells": [
  {
   "cell_type": "code",
   "execution_count": 1,
   "metadata": {},
   "outputs": [],
   "source": [
    "from pyspark.sql import SparkSession\n",
    "spark = SparkSession \\\n",
    "    .builder \\\n",
    "    .appName(\"Python Spark basic example\") \\\n",
    "    .master(\"local[*]\") \\\n",
    "    .getOrCreate()"
   ]
  },
  {
   "cell_type": "code",
   "execution_count": 2,
   "metadata": {},
   "outputs": [],
   "source": [
    "df = spark.read.format(\"jdbc\").option(\"url\", \"jdbc:mysql://localhost:3306/test\") \\\n",
    "    .option(\"driver\", \"com.mysql.jdbc.Driver\").option(\"dbtable\", \"hugeTable\") \\\n",
    "    .option(\"user\", \"root\").option(\"password\", \"ga2006321111\").load()"
   ]
  },
  {
   "cell_type": "code",
   "execution_count": 3,
   "metadata": {
    "scrolled": false
   },
   "outputs": [
    {
     "name": "stdout",
     "output_type": "stream",
     "text": [
      "+--------------------+-------+-----------+------+\n",
      "|         idhugeTable|   name|onboardDate|Salary|\n",
      "+--------------------+-------+-----------+------+\n",
      "|000077b5-7606-443...|Yolanda| 2019-12-15| 20000|\n",
      "|0000c3ea-0bbd-409...|Yolanda| 2009-04-30| 32000|\n",
      "|00012d65-1cea-4e5...|Yolanda| 2015-09-30| 28000|\n",
      "|0001fff9-ab85-420...|    Kim| 2019-05-18| 29000|\n",
      "|0002130a-284d-4ef...|    Kim| 2013-09-30| 20000|\n",
      "+--------------------+-------+-----------+------+\n",
      "only showing top 5 rows\n",
      "\n"
     ]
    }
   ],
   "source": [
    "df.show(5)"
   ]
  },
  {
   "cell_type": "code",
   "execution_count": 4,
   "metadata": {},
   "outputs": [],
   "source": [
    "df_dest = df.select('name', 'Salary')"
   ]
  },
  {
   "cell_type": "code",
   "execution_count": 7,
   "metadata": {},
   "outputs": [
    {
     "name": "stdout",
     "output_type": "stream",
     "text": [
      "+-------+------+\n",
      "|   name|Salary|\n",
      "+-------+------+\n",
      "|Yolanda| 20000|\n",
      "|Yolanda| 32000|\n",
      "|Yolanda| 28000|\n",
      "|    Kim| 29000|\n",
      "|    Kim| 20000|\n",
      "+-------+------+\n",
      "only showing top 5 rows\n",
      "\n"
     ]
    }
   ],
   "source": [
    "df_dest.show(5)"
   ]
  },
  {
   "cell_type": "markdown",
   "metadata": {},
   "source": [
    "**write data into database**"
   ]
  },
  {
   "cell_type": "code",
   "execution_count": 5,
   "metadata": {},
   "outputs": [],
   "source": [
    "# df_dest.write.format('jdbc').options(\n",
    "#       url='jdbc:mysql://localhost/test',\n",
    "#       driver='com.mysql.jdbc.Driver',\n",
    "#       dbtable='dest',\n",
    "#       user='root',\n",
    "#       password='ga2006321111').mode('append').save()"
   ]
  },
  {
   "cell_type": "code",
   "execution_count": null,
   "metadata": {},
   "outputs": [],
   "source": []
  }
 ],
 "metadata": {
  "kernelspec": {
   "display_name": "Python 3",
   "language": "python",
   "name": "python3"
  },
  "language_info": {
   "codemirror_mode": {
    "name": "ipython",
    "version": 3
   },
   "file_extension": ".py",
   "mimetype": "text/x-python",
   "name": "python",
   "nbconvert_exporter": "python",
   "pygments_lexer": "ipython3",
   "version": "3.8.5"
  }
 },
 "nbformat": 4,
 "nbformat_minor": 4
}

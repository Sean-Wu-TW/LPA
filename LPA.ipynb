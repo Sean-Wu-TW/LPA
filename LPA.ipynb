{
 "cells": [
  {
   "cell_type": "code",
   "execution_count": 1,
   "metadata": {},
   "outputs": [],
   "source": [
    "import os\n",
    "os.environ[\"PYSPARK_PYTHON\"] = \"/Users/seanwu/opt/anaconda3/bin/python\"\n",
    "os.environ[\"PYSPARK_DRIVER_PYTHON\"] = \"/Users/seanwu/opt/anaconda3/bin/python\"\n",
    "# os.environ[\"AWS_ACCESS_KEY_ID\"] = \"\"\n",
    "# os.environ[\"AWS_SECRET_ACCESS_KEY\"] = \"\"\n",
    "\n",
    "from pyspark.sql import SparkSession\n",
    "import json\n",
    "import tldextract # extracts TLDs\n",
    "\n",
    "spark = SparkSession \\\n",
    "    .builder \\\n",
    "    .appName(\"Python Spark basic example\") \\\n",
    "    .master(\"local[*]\") \\\n",
    "    .config(\"spark.jars.packages\", \"org.apache.hadoop:hadoop-aws:2.7.3,graphframes:graphframes:0.3.0-spark2.0-s_2.11\")\\\n",
    "    .getOrCreate()"
   ]
  },
  {
   "cell_type": "markdown",
   "metadata": {},
   "source": [
    "### Set Java to version 8"
   ]
  },
  {
   "cell_type": "code",
   "execution_count": 2,
   "metadata": {},
   "outputs": [],
   "source": [
    "!export JAVA_HOME=$(/usr/libexec/java_home -v 1.8)"
   ]
  },
  {
   "cell_type": "markdown",
   "metadata": {},
   "source": [
    "### (Make sure that it is version 8"
   ]
  },
  {
   "cell_type": "code",
   "execution_count": 3,
   "metadata": {},
   "outputs": [
    {
     "name": "stdout",
     "output_type": "stream",
     "text": [
      "java version \"1.8.0_251\"\r\n",
      "Java(TM) SE Runtime Environment (build 1.8.0_251-b08)\r\n",
      "Java HotSpot(TM) 64-Bit Server VM (build 25.251-b08, mixed mode)\r\n"
     ]
    }
   ],
   "source": [
    "!java -version"
   ]
  },
  {
   "cell_type": "code",
   "execution_count": 4,
   "metadata": {},
   "outputs": [],
   "source": [
    "def get_json(line):\n",
    "    ''' turns everything into json '''\n",
    "    try:\n",
    "        line = line.lower()\n",
    "        return json.loads(line)\n",
    "    except:\n",
    "        pass"
   ]
  },
  {
   "cell_type": "code",
   "execution_count": 5,
   "metadata": {},
   "outputs": [],
   "source": [
    "def get_target_TLD(x):\n",
    "    ''' extracts target URL '''\n",
    "    try:\n",
    "        sub, do, suffix = tldextract.extract(x['envelope']['warc-header-metadata']['warc-target-uri'])\n",
    "        return '.'.join([do, suffix])\n",
    "        #return sub+'.'+do+'.'+suffix\n",
    "    except:\n",
    "        return None"
   ]
  },
  {
   "cell_type": "code",
   "execution_count": 6,
   "metadata": {},
   "outputs": [],
   "source": [
    "def get_links(x):\n",
    "    ''' Extracts only the linked TLDs from a specific website links '''\n",
    "    try:\n",
    "        s = set()\n",
    "        for dics in x['envelope'][\"payload-metadata\"]\\\n",
    "            [\"http-response-metadata\"]\\\n",
    "            [\"html-metadata\"]\\\n",
    "            [\"links\"]:\n",
    "            if dics[\"url\"]:\n",
    "                if dics[\"url\"][:4] == \"http\":\n",
    "                    sub, do, suffix = tldextract.extract(dics[\"url\"])\n",
    "                    s.add('.'.join([do, suffix]))\n",
    "        return s\n",
    "    except:\n",
    "        pass"
   ]
  },
  {
   "cell_type": "code",
   "execution_count": 7,
   "metadata": {},
   "outputs": [],
   "source": [
    "def prevent_selfLoop(x,y):\n",
    "    ''' removes itself preventing self loop'''\n",
    "    if x in y:\n",
    "        y.remove(x)\n",
    "    return x, y"
   ]
  },
  {
   "cell_type": "code",
   "execution_count": 8,
   "metadata": {},
   "outputs": [],
   "source": [
    "def hash_key_and_values(x):\n",
    "    ''' takes in (domain,{set}) and hash them into ids'''\n",
    "    key = hash(x[0])\n",
    "    values = []\n",
    "    for i in x[1]:\n",
    "        values.append(hash(i))\n",
    "    return (key, values)"
   ]
  },
  {
   "cell_type": "markdown",
   "metadata": {},
   "source": [
    "### Read in text file"
   ]
  },
  {
   "cell_type": "code",
   "execution_count": 9,
   "metadata": {},
   "outputs": [],
   "source": [
    "# distText = spark.sparkContext.textFile(\"s3a://commoncrawl/crawl-data/CC-MAIN-2016-07/segments/*/wat/*.gz\")\n",
    "distText = spark.sparkContext.textFile('/February 2016/crawl-data/CC-MAIN-2016-07/segments/*/wat/*.gz')"
   ]
  },
  {
   "cell_type": "markdown",
   "metadata": {},
   "source": [
    "### get vertices"
   ]
  },
  {
   "cell_type": "code",
   "execution_count": 10,
   "metadata": {},
   "outputs": [],
   "source": [
    "verticesRDD = distText.map(lambda x: get_json(x))\\\n",
    "    .filter(lambda x: x != None)\\\n",
    "    .map(lambda x:get_target_TLD(x))\\\n",
    "    .filter(lambda x: x!= None)\\\n",
    "    .map(lambda x:(hash(x), x))\\\n",
    "    .distinct()"
   ]
  },
  {
   "cell_type": "code",
   "execution_count": 11,
   "metadata": {},
   "outputs": [],
   "source": [
    "#verticesRDD.take(5)"
   ]
  },
  {
   "cell_type": "markdown",
   "metadata": {},
   "source": [
    "### get edges"
   ]
  },
  {
   "cell_type": "code",
   "execution_count": 12,
   "metadata": {},
   "outputs": [],
   "source": [
    "edgesRDD = distText.map(lambda x: get_json(x))\\\n",
    "    .filter(lambda x: x != None)\\\n",
    "    .map(lambda x: (get_target_TLD(x), get_links(x)))\\\n",
    "    .filter(lambda x: x[0] != None and x[1] != None)\\\n",
    "    .map(lambda x:prevent_selfLoop(x[0],x[1]))\\\n",
    "    .reduceByKey(lambda x, y: x.union(y))\\\n",
    "    .map(lambda x: hash_key_and_values(x))\\\n",
    "    .flatMapValues(lambda x: x)"
   ]
  },
  {
   "cell_type": "code",
   "execution_count": 13,
   "metadata": {},
   "outputs": [],
   "source": [
    "#edgesRDD.take(5)"
   ]
  },
  {
   "cell_type": "markdown",
   "metadata": {},
   "source": [
    "### read into dataframe"
   ]
  },
  {
   "cell_type": "code",
   "execution_count": 14,
   "metadata": {},
   "outputs": [],
   "source": [
    "vertices_dataFrame = spark.createDataFrame(verticesRDD,['id','name'])\n",
    "edgesRDD_dataFrame = spark.createDataFrame(edgesRDD,[\"src\", \"dst\"])"
   ]
  },
  {
   "cell_type": "code",
   "execution_count": 15,
   "metadata": {},
   "outputs": [
    {
     "data": {
      "text/plain": [
       "[Row(src=4285572903547207920, dst=2739784602837965824),\n",
       " Row(src=4285572903547207920, dst=-6967053938570686463),\n",
       " Row(src=4285572903547207920, dst=-5791541011073193466),\n",
       " Row(src=4285572903547207920, dst=6761084252930425355),\n",
       " Row(src=4285572903547207920, dst=-8708776065850436596)]"
      ]
     },
     "execution_count": 15,
     "metadata": {},
     "output_type": "execute_result"
    }
   ],
   "source": [
    "edgesRDD_dataFrame.head(5)"
   ]
  },
  {
   "cell_type": "code",
   "execution_count": 16,
   "metadata": {},
   "outputs": [],
   "source": [
    "from graphframes import *"
   ]
  },
  {
   "cell_type": "code",
   "execution_count": 17,
   "metadata": {},
   "outputs": [],
   "source": [
    "g = GraphFrame(vertices_dataFrame, edgesRDD_dataFrame)"
   ]
  },
  {
   "cell_type": "code",
   "execution_count": 18,
   "metadata": {},
   "outputs": [
    {
     "name": "stdout",
     "output_type": "stream",
     "text": [
      "+-------------------+--------------------+\n",
      "|                src|                 dst|\n",
      "+-------------------+--------------------+\n",
      "|4285572903547207920| 2739784602837965824|\n",
      "|4285572903547207920|-6967053938570686463|\n",
      "|4285572903547207920|-5791541011073193466|\n",
      "|4285572903547207920| 6761084252930425355|\n",
      "|4285572903547207920|-8708776065850436596|\n",
      "|4285572903547207920|-1214350095715070963|\n",
      "|4285572903547207920|-7808670595516599281|\n",
      "|4285572903547207920| 6165036195414574097|\n",
      "|4285572903547207920|-5985818500628700653|\n",
      "|4285572903547207920|-8881742504770768876|\n",
      "|4285572903547207920| 4576300366550306839|\n",
      "|4285572903547207920|-8754969770135597544|\n",
      "|4285572903547207920|-4180227107228633062|\n",
      "|4285572903547207920| 2507482377650386462|\n",
      "|4285572903547207920| 3954257185637245470|\n",
      "|4285572903547207920|-8362541349642173921|\n",
      "|4285572903547207920| 6562974860942138402|\n",
      "|4285572903547207920| 4469509359167677987|\n",
      "|4285572903547207920|-2523948590802034648|\n",
      "|4285572903547207920| 3290824996227573803|\n",
      "+-------------------+--------------------+\n",
      "only showing top 20 rows\n",
      "\n"
     ]
    }
   ],
   "source": [
    "g.edges.show()"
   ]
  },
  {
   "cell_type": "code",
   "execution_count": 19,
   "metadata": {},
   "outputs": [],
   "source": [
    "result = g.labelPropagation(maxIter=5) # if didn't use Java 8, will error."
   ]
  },
  {
   "cell_type": "code",
   "execution_count": 20,
   "metadata": {},
   "outputs": [],
   "source": [
    "#result.take(5)"
   ]
  },
  {
   "cell_type": "code",
   "execution_count": 21,
   "metadata": {
    "scrolled": false
   },
   "outputs": [],
   "source": [
    "LPA_result = result.rdd.map(tuple).map(lambda x: (x[2], [x[1]]))\\\n",
    "    .reduceByKey(lambda x,y: x + y)"
   ]
  },
  {
   "cell_type": "code",
   "execution_count": 22,
   "metadata": {},
   "outputs": [],
   "source": [
    "try:\n",
    "    LPA_result.saveAsTextFile(\"LPA_results\")\n",
    "except:\n",
    "    print(\"File already exist.\")"
   ]
  },
  {
   "cell_type": "code",
   "execution_count": null,
   "metadata": {},
   "outputs": [],
   "source": []
  }
 ],
 "metadata": {
  "kernelspec": {
   "display_name": "Python 3",
   "language": "python",
   "name": "python3"
  },
  "language_info": {
   "codemirror_mode": {
    "name": "ipython",
    "version": 3
   },
   "file_extension": ".py",
   "mimetype": "text/x-python",
   "name": "python",
   "nbconvert_exporter": "python",
   "pygments_lexer": "ipython3",
   "version": "3.8.5"
  }
 },
 "nbformat": 4,
 "nbformat_minor": 4
}
